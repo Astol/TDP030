{
 "cells": [
  {
   "cell_type": "markdown",
   "metadata": {},
   "source": [
    "<div class=\"alert alert-danger\">\n",
    "**Due date:** 2017-01-27\n",
    "</div>"
   ]
  },
  {
   "cell_type": "markdown",
   "metadata": {},
   "source": [
    "# Lab 1: Text Classification"
   ]
  },
  {
   "cell_type": "markdown",
   "metadata": {},
   "source": [
    "**Students:** Alexander Stolpe (alest170), Fredrik Jonsén (frejo105)"
   ]
  },
  {
   "cell_type": "markdown",
   "metadata": {},
   "source": [
    "## Introduction"
   ]
  },
  {
   "cell_type": "markdown",
   "metadata": {},
   "source": [
    "Text classification is the task of sorting text documents into predefined classes. The concrete problem you will be working on in this lab is classification of texts regarding political block affiliation (right-wing/left-wing). The specific texts you are going to classify are speeches held in the Swedish parliament. The classifier will read in a speech and predict if the speaker belongs to a right-wing or a left-wing party."
   ]
  },
  {
   "cell_type": "code",
   "execution_count": 1,
   "metadata": {
    "collapsed": true
   },
   "outputs": [],
   "source": [
    "import lab1"
   ]
  },
  {
   "cell_type": "markdown",
   "metadata": {},
   "source": [
    "## Read in the data"
   ]
  },
  {
   "cell_type": "markdown",
   "metadata": {},
   "source": [
    "The data used in this lab consists of all speeches held in the Swedish parliament in the 2014/2015 and 2015/2016 sessions. The raw data is taken from [Riksdag's open data](http://data.riksdagen.se/). Speeches are divided into two files in the [JSON format](https://en.wikipedia.org/wiki/JSON):\n",
    "* `anforande-201415.json` with 12928 speeches\n",
    "* `anforande-201516.json` with 13702 speeches\n",
    "\n",
    "In order to read in the data files, we define a helper function. The function opens the given file and returns a list with speeches."
   ]
  },
  {
   "cell_type": "code",
   "execution_count": 2,
   "metadata": {
    "collapsed": false
   },
   "outputs": [],
   "source": [
    "import json\n",
    "\n",
    "def read_data(filename):\n",
    "    with open(filename) as f:\n",
    "        return json.load(f)\n",
    "\n",
    "speeches_201415 = read_data(\"/home/729G17/labs/lab1/data/anforande-201415.json\")\n",
    "speeches_201516 = read_data(\"/home/729G17/labs/lab1/data/anforande-201516.json\")"
   ]
  },
  {
   "cell_type": "markdown",
   "metadata": {},
   "source": [
    "From a Python perspective, a speech is represented as a dictionary with three keys:\n",
    "\n",
    "* `id`, a unique identifier for the speech (a string)\n",
    "* `words`, a list with all the words in the speech (represented as strings)\n",
    "* `class`, a string giving the correct class for the speech: either `'L'` (left) or `'R'` (right)\n",
    "\n",
    "Here is an example:"
   ]
  },
  {
   "cell_type": "code",
   "execution_count": 3,
   "metadata": {
    "collapsed": false,
    "scrolled": true
   },
   "outputs": [
    {
     "name": "stdout",
     "output_type": "stream",
     "text": [
      "{'words': ['Fru', 'talman', 'Tack', 'Hans', 'Wallmark', 'för', 'frågan', 'Det', 'är', 'alldeles', 'riktigt', 'att', 'jag', 'reagerade', 'omedelbart', 'och', 'kommenterade', 'saken', 'på', 'det', 'enda', 'möjliga', 'sättet', 'nämligen', 'att', 'vi', 'beslutar', 'själva', 'om', 'vår', 'säkerhetspolitik', 'Vi', 'låter', 'oss', 'inte', 'påverkas', 'av', 'hotfulla', 'uttalanden', 'UD', 'kallade', 'också', 'upp', 'den', 'ryske', 'ambassadören', 'för', 'samtal', 'Nu', 'hör', 'det', 'till', 'saken', 'att', 'vi', 'inte', 'brukar', 'avslöja', 'innehållet', 'i', 'de', 'här', 'samtalen', 'och', 'det', 'är', 'ju', 'för', 'att', 'vi', 'ska', 'kunna', 'ställa', 'relevanta', 'frågor', 'i', 'det', 'här', 'fallet', 'till', 'ambassadören', 'och', 'förhoppningsvis', 'kunna', 'få', 'ett', 'svar', 'och', 'en', 'dialog', 'kring', 'de', 'frågor', 'som', 'är', 'viktiga', 'för', 'oss', 'Vår', 'säkerhetspolitiska', 'linje', 'som', 'Hans', 'Wallmark', 'väl', 'känner', 'till', 'ligger', 'fast', 'och', 'vår', 'självständighet', 'är', 'förstås', 'en', 'grundpelare', 'i', 'detta'], 'id': 'H3-003-043', 'class': 'L'}\n"
     ]
    }
   ],
   "source": [
    "sample = speeches_201516[42]\n",
    "print(sample)"
   ]
  },
  {
   "cell_type": "markdown",
   "metadata": {},
   "source": [
    "## Train and evaluate a classifier"
   ]
  },
  {
   "cell_type": "markdown",
   "metadata": {},
   "source": [
    "The next code cell creates a new Naive Bayes classifier and trains it on the speeches from the 2014/2015 session:"
   ]
  },
  {
   "cell_type": "code",
   "execution_count": 4,
   "metadata": {
    "collapsed": false
   },
   "outputs": [],
   "source": [
    "classifier1 = lab1.Classifier.train(speeches_201415)"
   ]
  },
  {
   "cell_type": "markdown",
   "metadata": {},
   "source": [
    "You can use the trained classifier for predicting the class for a new speech:"
   ]
  },
  {
   "cell_type": "code",
   "execution_count": 5,
   "metadata": {
    "collapsed": false
   },
   "outputs": [
    {
     "data": {
      "text/plain": [
       "'L'"
      ]
     },
     "execution_count": 5,
     "metadata": {},
     "output_type": "execute_result"
    }
   ],
   "source": [
    "classifier1.predict(sample)"
   ]
  },
  {
   "cell_type": "markdown",
   "metadata": {},
   "source": [
    "Was it correct? Your first exercise is to evaluate the classifier with respect to accuracy, precision, and recall:"
   ]
  },
  {
   "cell_type": "code",
   "execution_count": 6,
   "metadata": {
    "collapsed": false
   },
   "outputs": [
    {
     "name": "stdout",
     "output_type": "stream",
     "text": [
      "accuracy = 0.9517\n",
      "class L: precision = 0.9585, recall = 0.9486, f1 = 0.9535\n",
      "class R: precision = 0.9445, recall = 0.9552, f1 = 0.9498\n"
     ]
    }
   ],
   "source": [
    "lab1.evaluate(classifier1, speeches_201415)"
   ]
  },
  {
   "cell_type": "markdown",
   "metadata": {},
   "source": [
    "You should get the same results as in the table below."
   ]
  },
  {
   "cell_type": "markdown",
   "metadata": {},
   "source": [
    "**Tabell 1: Train on the speeches from 2014/2015, evaluate on the speeches from 2014/2015**\n",
    "\n",
    "<table class=\"table\">\n",
    "<thead>\n",
    "<tr><th>total</th><th colspan=\"3\" style=\"width: auto\">L (left)</th><th colspan=\"3\">R (right)</th></tr>\n",
    "<tr><th>accuracy</th><th>precision</th><th>recall</th><th>F1</th><th>precision</th><th>recall</th><th>F1</th></tr>\n",
    "</thead>\n",
    "<tbody>\n",
    "<tr><td>95.17%</td><td>95.85%</td><td>94.86%</td><td>95.35%</td><td>94.45%</td><td>95.52%</td><td>94.98%</td></tr>\n",
    "</tbody>\n",
    "</table>"
   ]
  },
  {
   "cell_type": "markdown",
   "metadata": {},
   "source": [
    "<div class=\"panel panel-primary\">\n",
    "<div class=\"panel-heading\">Problem 1</div>\n",
    "<div class=\"panel-body\">\n",
    "Redo the evaluation on the speeches from 2015/2016. Report the results from the evaluation. How and why do the results differ from the first evaluation? Why is the second evaluation more meaningful? Explain using your knowledge of machine learning methodology.\n",
    "</ul>\n",
    "</div>\n",
    "</div>"
   ]
  },
  {
   "cell_type": "code",
   "execution_count": 7,
   "metadata": {
    "collapsed": false
   },
   "outputs": [
    {
     "name": "stdout",
     "output_type": "stream",
     "text": [
      "accuracy = 0.8197\n",
      "class L: precision = 0.8209, recall = 0.8475, f1 = 0.8340\n",
      "class R: precision = 0.8181, recall = 0.7877, f1 = 0.8027\n"
     ]
    }
   ],
   "source": [
    "# Room for your code for Problem 1\n",
    "lab1.evaluate(classifier1, speeches_201516)"
   ]
  },
  {
   "cell_type": "markdown",
   "metadata": {},
   "source": [
    "Fill the table below with the results from your evaluation."
   ]
  },
  {
   "cell_type": "markdown",
   "metadata": {},
   "source": [
    "**Tabell 2: Train on the speeches from 2014/2015, evaluate on the speeches from 2015/2016**\n",
    "\n",
    "<table class=\"table\">\n",
    "<thead>\n",
    "<tr><th>total</th><th colspan=\"3\">L (left)</th><th colspan=\"3\">R (right)</th></tr>\n",
    "<tr><th>accuracy</th><th>precision</th><th>recall</th><th>F1</th><th>precision</th><th>recall</th><th>F1</th></tr>\n",
    "</thead>\n",
    "<tbody>\n",
    "<tr><td>81.97%</td><td>82.09%</td><td>84.75%</td><td>83.40%</td><td>81.81%</td><td>78.77%</td><td>80.27%</td></tr>\n",
    "</tbody>\n",
    "</table>"
   ]
  },
  {
   "cell_type": "markdown",
   "metadata": {},
   "source": [
    "The results differ from the first evaluation because the first evalution used the same data set as was used to teach the classifier.\n",
    "The second evaluation is more meaningful because it evaluates against data that has never been seen by the classifier before. "
   ]
  },
  {
   "cell_type": "markdown",
   "metadata": {},
   "source": [
    "<div class=\"alert alert-danger\">\n",
    "From now on you will always train on the speeches from 2014/2015 (training data) and test on the speeches from 2015/2016 (test data).\n",
    "</div>"
   ]
  },
  {
   "cell_type": "markdown",
   "metadata": {},
   "source": [
    "## Implement functions for evaluation"
   ]
  },
  {
   "cell_type": "markdown",
   "metadata": {},
   "source": [
    "The function `lab1.evaluate()` you used above calls three functions from the module `lab1`:\n",
    "\n",
    "* `accuracy()`, computes the classifier's accuracy\n",
    "* `precision()`, computes precision\n",
    "* `recall()`, computes recall\n",
    "\n",
    "Your next exercise is to do your own implementation of these three functions."
   ]
  },
  {
   "cell_type": "markdown",
   "metadata": {},
   "source": [
    "<div class=\"panel panel-primary\">\n",
    "<div class=\"panel-heading\">Problem 2</div>\n",
    "<div class=\"panel-body\">\n",
    "Do your own implementation of the evaluation functions. Test your implementation by redoing the evaluation from the previous exercise with your new functions. You should get the same results as earlier.\n",
    "</div>\n",
    "</div>"
   ]
  },
  {
   "cell_type": "markdown",
   "metadata": {},
   "source": [
    "Write the code for the three functions in the cells below. The only method of the classifier you will have to call in your implementation is `predict()`. (Look above for an example on how to use it.)"
   ]
  },
  {
   "cell_type": "markdown",
   "metadata": {},
   "source": [
    "**Accuracy.** This function takes a classifier (`classifier`) and a list of documents  (`documents`) and should return the classifier's accuracy on the data set as a floating-point number between 0 and 1. If the measure is not defined it should return `float('NaN')` instead."
   ]
  },
  {
   "cell_type": "code",
   "execution_count": 8,
   "metadata": {
    "collapsed": false
   },
   "outputs": [],
   "source": [
    "def accuracy(classifier, documents):\n",
    "    \"\"\"Compute the accuracy of a classifier on a list of gold-standard documents.\"\"\"\n",
    "    correct = 0\n",
    "    for document in documents:\n",
    "        result = classifier.predict(document)\n",
    "        if result == document['class']: correct += 1 \n",
    "    return float('NaN') if len(documents) == 0 else correct / len(documents)"
   ]
  },
  {
   "cell_type": "markdown",
   "metadata": {},
   "source": [
    "**Precision.** This function takes a classifier  (`classifier`), a class `c`, and a list with documents (`documents`) and should compute the classifier's precision on the task of finding documents with class `c` as a floating-point number between 0 and 1. If the measure is not defined it should return `float('NaN')` instead."
   ]
  },
  {
   "cell_type": "code",
   "execution_count": 17,
   "metadata": {
    "collapsed": true
   },
   "outputs": [],
   "source": [
    "def precision(classifier, c, documents):\n",
    "    \"\"\"Compute the class-specific precision of a classifier on a list of gold-standard documents.\"\"\"\n",
    "    total_class_predictions = 0\n",
    "    correct_predictions = 0\n",
    "    for document in documents:\n",
    "        guess = classifier.predict(document)\n",
    "        if guess != c: continue\n",
    "        total_class_predictions += 1\n",
    "        if document['class'] == guess:\n",
    "            correct_predictions += 1\n",
    "    return float('NaN') if total_class_predictions == 0 else correct_predictions / total_class_predictions"
   ]
  },
  {
   "cell_type": "markdown",
   "metadata": {},
   "source": [
    "**Recall.** This function should do the same as the previous one, but instead compute the recall."
   ]
  },
  {
   "cell_type": "code",
   "execution_count": 21,
   "metadata": {
    "collapsed": true
   },
   "outputs": [],
   "source": [
    "def recall(classifier, c, documents):\n",
    "    \"\"\"Compute the class-specific recall of a classifier on a list of gold-standard documents.\"\"\"\n",
    "    # TODO: Implement this method to solve Exercise 2\n",
    "    correct_predictions = 0\n",
    "    total_of_class = 0\n",
    "    for document in documents:\n",
    "        if document['class'] != c: continue\n",
    "        total_of_class += 1\n",
    "        result = classifier.predict(document)\n",
    "        if result == document['class']: correct_predictions += 1\n",
    "    \n",
    "    return float('NaN') if total_of_class == 0 else correct_predictions / total_of_class"
   ]
  },
  {
   "cell_type": "markdown",
   "metadata": {},
   "source": [
    "Use this version of `evaluate()` in order to test your implementation. Note that you will have to change the code below to compute the F1-score."
   ]
  },
  {
   "cell_type": "code",
   "execution_count": 23,
   "metadata": {
    "collapsed": true
   },
   "outputs": [],
   "source": [
    "def our_evaluate(classifier, data):\n",
    "    from math import isnan\n",
    "    print(\"accuracy = %.4f\" % accuracy(classifier, data))\n",
    "\n",
    "    for c in sorted(classifier.classes):\n",
    "        p = precision(classifier, c, data)\n",
    "        r = recall(classifier, c, data)\n",
    "        # TODO: Change the next line to compute the F1-score\n",
    "        f = float('NaN')\n",
    "        if not isnan(p) and not isnan(r):\n",
    "            f = (2*p*r) / (p+r)\n",
    "        print(\"class %s: precision = %.4f, recall = %.4f, f1 = %.4f\" % (c, p, r, f))"
   ]
  },
  {
   "cell_type": "code",
   "execution_count": 24,
   "metadata": {
    "collapsed": false
   },
   "outputs": [
    {
     "name": "stdout",
     "output_type": "stream",
     "text": [
      "accuracy = 0.8197\n",
      "class L: precision = 0.8209, recall = 0.8475, f1 = 0.8340\n",
      "class R: precision = 0.8181, recall = 0.7877, f1 = 0.8027\n"
     ]
    }
   ],
   "source": [
    "our_evaluate(classifier1, speeches_201516)"
   ]
  },
  {
   "cell_type": "markdown",
   "metadata": {},
   "source": [
    "## Create a baseline"
   ]
  },
  {
   "cell_type": "markdown",
   "metadata": {},
   "source": [
    "A **baseline** is a reference used to compare various methods with. A simple baseline for text classification is *Most Frequent Class*. This method predicts the class which appears most frequently in the training data documents – completely independent from which words appear in the documents. We would hope that a Naive Bayes-classifier returns better results than this simple baseline."
   ]
  },
  {
   "cell_type": "markdown",
   "metadata": {},
   "source": [
    "<div class=\"panel panel-primary\">\n",
    "<div class=\"panel-heading\">Problem 3</div>\n",
    "<div class=\"panel-body\">\n",
    "Implement the Most Frequent Class baseline. Start with finding out which class appears most frequently in the training data. Then implement a class `MostFrequentClassClassifier` which always predicts this class. Evaluate this new classifier in the same way as you evaluated the others above.\n",
    "</div>\n",
    "</div>"
   ]
  },
  {
   "cell_type": "code",
   "execution_count": 46,
   "metadata": {
    "collapsed": false
   },
   "outputs": [
    {
     "name": "stdout",
     "output_type": "stream",
     "text": [
      "L\n"
     ]
    }
   ],
   "source": [
    "# Use this cell for code that determines the class that appears most frequently in the training data\n",
    "def most_frequent_class(document):\n",
    "    R = 0\n",
    "    L = 0\n",
    "    for doc in document:\n",
    "        doc_class = doc['class']\n",
    "        if doc_class == 'R': R += 1\n",
    "        elif doc_class == 'L': L += 1\n",
    "    if R == L: return 'None'\n",
    "    return 'R' if R > L else 'L'\n",
    "print(most_frequent_class(speeches_201415))"
   ]
  },
  {
   "cell_type": "code",
   "execution_count": 47,
   "metadata": {
    "collapsed": true
   },
   "outputs": [],
   "source": [
    "class MostFrequentClassClassifier(lab1.Classifier):\n",
    "    most_frequent = most_frequent_class(speeches_201415)\n",
    "    # TODO: Implement this method to solve Problem 3\n",
    "    def predict(self, document):\n",
    "        \"\"\"Predict the class of the specified document.\"\"\"\n",
    "        return self.most_frequent"
   ]
  },
  {
   "cell_type": "markdown",
   "metadata": {},
   "source": [
    "Note that you do not need to implement the training; this functionality is gained automatically by inheriting from `lab1.Classifier`."
   ]
  },
  {
   "cell_type": "code",
   "execution_count": 48,
   "metadata": {
    "collapsed": false
   },
   "outputs": [
    {
     "name": "stdout",
     "output_type": "stream",
     "text": [
      "accuracy = 0.5344\n",
      "class L: precision = 0.5344, recall = 1.0000, f1 = 0.6966\n",
      "class R: precision = nan, recall = 0.0000, f1 = nan\n"
     ]
    }
   ],
   "source": [
    "classifier2 = MostFrequentClassClassifier.train(speeches_201415)\n",
    "lab1.evaluate(classifier2, speeches_201516)"
   ]
  },
  {
   "cell_type": "markdown",
   "metadata": {},
   "source": [
    "**Tabell 3: Baseline results (Most Frequent Class) for the speeches from 2015/2016**\n",
    "\n",
    "<table class=\"table\">\n",
    "<thead>\n",
    "<tr><th>total</th><th colspan=\"3\">L (left)</th><th colspan=\"3\">R (right)</th></tr>\n",
    "<tr><th>accuracy</th><th>precision</th><th>recall</th><th>F1</th><th>precision</th><th>recall</th><th>F1</th></tr>\n",
    "</thead>\n",
    "<tbody>\n",
    "<tr><td>53.44%</td><td>53.44%</td><td>100%</td><td>69.66%</td><td>NaN</td><td>0%</td><td>NaN</td></tr>\n",
    "</tbody>\n",
    "</table>"
   ]
  },
  {
   "cell_type": "markdown",
   "metadata": {},
   "source": [
    "## Implement the predict function"
   ]
  },
  {
   "cell_type": "markdown",
   "metadata": {},
   "source": [
    "In the last part of this lab you will implement the classification rule for a Naive Bayes classifier.\n",
    "\n",
    "### How a classifier is represented in Python\n",
    "\n",
    "Remember that the core of a Naive Bayes classifier is a probabilistic model with four components: a set of possible classes, $C$, a vocabulary, $V$, a number of class probabilities, $P(c)$ and a number of word probabilities, $P(w \\mid c)$. In order to implement the classification rule, you will need to know how these components are represented in Python. Each one of those exists as an attribute of the class `lab1.Classifier`:"
   ]
  },
  {
   "cell_type": "markdown",
   "metadata": {},
   "source": [
    "**The set of possible classes.** This set is represented as a set of strings. Example:"
   ]
  },
  {
   "cell_type": "code",
   "execution_count": 49,
   "metadata": {
    "collapsed": false
   },
   "outputs": [
    {
     "name": "stdout",
     "output_type": "stream",
     "text": [
      "['L', 'R']\n"
     ]
    }
   ],
   "source": [
    "# classes: Set[str]\n",
    "print(sorted(classifier1.classes))"
   ]
  },
  {
   "cell_type": "markdown",
   "metadata": {},
   "source": [
    "**The vocabulary.** The vocabulary is also represented as a set of strings. The following cell prints 20 words in the vocabulary for `classifier1`:"
   ]
  },
  {
   "cell_type": "code",
   "execution_count": 50,
   "metadata": {
    "collapsed": false
   },
   "outputs": [
    {
     "name": "stdout",
     "output_type": "stream",
     "text": [
      "['begåvningar', 'behagat', 'behagligt', 'behandla', 'behandlad', 'behandlade', 'behandlades', 'behandlande', 'behandlar', 'behandlas', 'behandlat', 'behandlats', 'behandling', 'behandlingar', 'behandlingarna', 'behandlingen', 'behandlingsansvaret', 'behandlingsbehov', 'behandlingsform', 'behandlingsformer']\n"
     ]
    }
   ],
   "source": [
    "# vocabulary: Set[str]\n",
    "print(sorted(classifier1.vocabulary)[20000:20020])"
   ]
  },
  {
   "cell_type": "markdown",
   "metadata": {},
   "source": [
    "**Class probabilities.** For every possible class $c \\in C$ there is a probability $P(c)$ that a given document has class $c$. These class probabilities are encoded as a dictionary, mapping classes (strings) to log probabilities (floating point numbers). The following code returns the class probability for the class `'L'` (left):"
   ]
  },
  {
   "cell_type": "code",
   "execution_count": 51,
   "metadata": {
    "collapsed": false
   },
   "outputs": [
    {
     "name": "stdout",
     "output_type": "stream",
     "text": [
      "-0.6502975401334512\n"
     ]
    }
   ],
   "source": [
    "# pc: Mapping[str, float]\n",
    "print(classifier1.pc['L'])"
   ]
  },
  {
   "cell_type": "markdown",
   "metadata": {},
   "source": [
    "**Word probabilities.** For every possible class $c \\in C$ and every word&nbsp;$w$ in the vocabulary, there is a probability $P(w \\mid c)$ for $w$ occuring in a document with class&nbsp;$c$. These word probabilities are encoded as a nested dictionary, mapping classes (strings) to class-specific dictionaries mapping words (strings) to log probabilities (floating-point numbers). The following code returns the word probabilities for the word *behandlingsbehov* for the two possible classes."
   ]
  },
  {
   "cell_type": "code",
   "execution_count": 52,
   "metadata": {
    "collapsed": false
   },
   "outputs": [
    {
     "name": "stdout",
     "output_type": "stream",
     "text": [
      "-13.849960775761835\n",
      "-14.526787889580016\n"
     ]
    }
   ],
   "source": [
    "# pw: Mapping[str, Mapping[str, float]]\n",
    "print(classifier1.pw['L']['behandlingsbehov'])\n",
    "print(classifier1.pw['R']['behandlingsbehov'])"
   ]
  },
  {
   "cell_type": "markdown",
   "metadata": {},
   "source": [
    "<div class=\"alert alert-danger\">\n",
    "Note that the implementation uses log probabilities!\n",
    "</div>"
   ]
  },
  {
   "cell_type": "markdown",
   "metadata": {},
   "source": [
    "### The classification rule\n",
    "\n",
    "Remember that the predicted class $\\hat{c}$ for a document $d$ is given by the equation\n",
    "\n",
    "$$\n",
    "\\hat{c} = \\mathop{\\text{arg max}}_{c \\in C} P(c) \\cdot \\prod_{w \\in V} P(w\\mid c)^{f(w)}\n",
    "$$\n",
    "\n",
    "where $f(w)$ denotes the number of occurrences of word $w$ in document $d$. Observe that this equation uses normal probabilities; in order to implement it you will need translate it to log probabilities."
   ]
  },
  {
   "cell_type": "markdown",
   "metadata": {},
   "source": [
    "<div class=\"panel panel-primary\">\n",
    "<div class=\"panel-heading\">Problem 4</div>\n",
    "<div class=\"panel-body\">\n",
    "Do your own implementation of the method `predict()`. Test your implementation by redoing the evaluation from Problem&nbsp;1 with the new implementation. You should get the same results as previously.\n",
    "</div>\n",
    "</div>"
   ]
  },
  {
   "cell_type": "code",
   "execution_count": 80,
   "metadata": {
    "collapsed": false
   },
   "outputs": [],
   "source": [
    "class OurClassifier(lab1.Classifier):\n",
    "    \n",
    "    # TODO: Implement this method to solve Problem 4\n",
    "    def predict(self, document):\n",
    "        current_prediction = ('', float('-inf'))\n",
    "        for c in self.classes:\n",
    "            acc_pw = 1\n",
    "            for word in document['words']:\n",
    "                acc_pw += self.pw[c].get(word,0)\n",
    "            total = self.pc[c] + acc_pw\n",
    "            if (total > current_prediction[1]):\n",
    "                current_prediction = (c, total)\n",
    "        \n",
    "        \"\"\"Predict the class of the specified document.\"\"\"\n",
    "        return current_prediction[0]"
   ]
  },
  {
   "cell_type": "markdown",
   "metadata": {},
   "source": [
    "Just as before, you do not need to implement the training procedure; this functionality is automatically derived from `lab1.Classifier`."
   ]
  },
  {
   "cell_type": "code",
   "execution_count": 81,
   "metadata": {
    "collapsed": false
   },
   "outputs": [
    {
     "name": "stdout",
     "output_type": "stream",
     "text": [
      "accuracy = 0.8197\n",
      "class L: precision = 0.8209, recall = 0.8475, f1 = 0.8340\n",
      "class R: precision = 0.8181, recall = 0.7877, f1 = 0.8027\n",
      "--- 8.837891817092896 seconds ---\n"
     ]
    }
   ],
   "source": [
    "import time\n",
    "classifier3 = OurClassifier.train(speeches_201415)\n",
    "start_time = time.time()\n",
    "lab1.evaluate(classifier3, speeches_201516)\n",
    "print(\"--- %s seconds ---\" % (time.time() - start_time))"
   ]
  }
 ],
 "metadata": {
  "kernelspec": {
   "display_name": "Python 3",
   "language": "python",
   "name": "python3"
  },
  "language_info": {
   "codemirror_mode": {
    "name": "ipython",
    "version": 3
   },
   "file_extension": ".py",
   "mimetype": "text/x-python",
   "name": "python",
   "nbconvert_exporter": "python",
   "pygments_lexer": "ipython3",
   "version": "3.4.3"
  },
  "latex_envs": {
   "bibliofile": "biblio.bib",
   "cite_by": "apalike",
   "current_citInitial": 1,
   "eqLabelWithNumbers": true,
   "eqNumInitial": 0
  }
 },
 "nbformat": 4,
 "nbformat_minor": 1
}
