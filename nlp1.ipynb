{
 "cells": [
  {
   "cell_type": "markdown",
   "metadata": {},
   "source": [
    "<div class=\"alert alert-danger\">\n",
    "**Due date:** 2017-01-27\n",
    "</div>"
   ]
  },
  {
   "cell_type": "markdown",
   "metadata": {},
   "source": [
    "# Lab 1: Text Classification"
   ]
  },
  {
   "cell_type": "markdown",
   "metadata": {},
   "source": [
    "**Students:** Maria Johansson (marjo123), Erik Karlsson (erika456)"
   ]
  },
  {
   "cell_type": "markdown",
   "metadata": {},
   "source": [
    "In this lab you will implement and compare the performance of two simple text classifiers: a Naive Bayes classifier and a classifier based on the averaged perceptron.\n",
    "\n",
    "The data set that you will use in this lab is the [review polarity data set](https://www.cs.cornell.edu/people/pabo/movie-review-data/) first used by [Pang and Lee (2004)](http://www.aclweb.org/anthology/P04-1035). This data set consists of 2,000 movie reviews, each of which has been tagged as either positive or negative towards the movie at hand. The data is originally distributed as a collection of text files. For this lab we have put all files into two JSON files, one for training and one for testing."
   ]
  },
  {
   "cell_type": "markdown",
   "metadata": {},
   "source": [
    "## Introduction"
   ]
  },
  {
   "cell_type": "markdown",
   "metadata": {},
   "source": [
    "Start by importing the module for this lab."
   ]
  },
  {
   "cell_type": "code",
   "execution_count": null,
   "metadata": {
    "collapsed": false
   },
   "outputs": [],
   "source": [
    "import nlp1"
   ]
  },
  {
   "cell_type": "markdown",
   "metadata": {},
   "source": [
    "The next cell loads the training data and the test data:"
   ]
  },
  {
   "cell_type": "code",
   "execution_count": null,
   "metadata": {
    "collapsed": false
   },
   "outputs": [],
   "source": [
    "training_data = nlp1.load_data(\"/home/TDDE09/labs/nlp1/review_polarity.train.json\")\n",
    "test_data = nlp1.load_data(\"/home/TDDE09/labs/nlp1/review_polarity.test.json\")"
   ]
  },
  {
   "cell_type": "markdown",
   "metadata": {},
   "source": [
    "As you will see, each data instance is a pair whose first component is a document, represented as a list of tokens, and whose second component is the gold-standard polarity of the review&nbsp;&ndash; either positive (`pos`) or negative (`neg`)."
   ]
  },
  {
   "cell_type": "code",
   "execution_count": null,
   "metadata": {
    "collapsed": false
   },
   "outputs": [],
   "source": [
    "print(training_data[813])"
   ]
  },
  {
   "cell_type": "markdown",
   "metadata": {},
   "source": [
    "The two classifiers that you will implement in this lab should inherit from the following class, whose only method `predict` takes a document and returns the predicted class for that document (here: the polarity)."
   ]
  },
  {
   "cell_type": "code",
   "execution_count": null,
   "metadata": {
    "collapsed": true
   },
   "outputs": [],
   "source": [
    "class Classifier(object):\n",
    "\n",
    "    def predict(self, d):\n",
    "        return None"
   ]
  },
  {
   "cell_type": "markdown",
   "metadata": {},
   "source": [
    "## Evaluation"
   ]
  },
  {
   "cell_type": "markdown",
   "metadata": {},
   "source": [
    "The first thing that you will have do is to implement a function\n",
    "\n",
    "`accuracy(classifier, data)`\n",
    "\n",
    "that computes the accuracy of a classifier on test data."
   ]
  },
  {
   "cell_type": "code",
   "execution_count": null,
   "metadata": {
    "collapsed": true
   },
   "outputs": [],
   "source": [
    "def accuracy(classifier, data):\n",
    "    # TODO: Replace the following line with your own code to solve Problem 1\n",
    "    return nlp1.accuracy(classifier, data)"
   ]
  },
  {
   "cell_type": "markdown",
   "metadata": {},
   "source": [
    "You can test this function by computing the accuracy of a Naive Bayes classifier on the test data:"
   ]
  },
  {
   "cell_type": "code",
   "execution_count": null,
   "metadata": {
    "collapsed": false
   },
   "outputs": [],
   "source": [
    "classifier = nlp1.NaiveBayesClassifier.train(training_data)\n",
    "print(accuracy(classifier, test_data))"
   ]
  },
  {
   "cell_type": "markdown",
   "metadata": {},
   "source": [
    "<div class=\"panel panel-primary\">\n",
    "<div class=\"panel-heading\">Problem 1</div>\n",
    "<div class=\"panel-body\">\n",
    "Provide your own implementation of the `accuracy()` function. Test your implementation by redoing the evaluation. You should get exactly the same results as before.\n",
    "</div>\n",
    "</div>\n",
    "\n",
    "**Hint:** Using an appropriate function from the `statistics` module, this problem can be solved in a one-liner."
   ]
  },
  {
   "cell_type": "markdown",
   "metadata": {},
   "source": [
    "## Naive Bayes classifier"
   ]
  },
  {
   "cell_type": "markdown",
   "metadata": {},
   "source": [
    "To implement the Naive Bayes classifier, you should complete the following code:"
   ]
  },
  {
   "cell_type": "code",
   "execution_count": null,
   "metadata": {
    "collapsed": false
   },
   "outputs": [],
   "source": [
    "class MyNaiveBayesClassifier(Classifier):\n",
    "\n",
    "    def predict(self, d):\n",
    "        # TODO: Replace the following line with your own code to solve Problem 2\n",
    "        return None\n",
    "\n",
    "    @classmethod\n",
    "    def train(cls, data, k=1):\n",
    "        # TODO: Replace the following line with your own code to solve Problem 2\n",
    "        return cls()"
   ]
  },
  {
   "cell_type": "markdown",
   "metadata": {},
   "source": [
    "In this skeleton the method `predict()` should implement the Naive Bayes classification rule. The method `train()` should return a new classifier that has been trained on the specified training data using maximum likelihood estimation with add-$k$ smoothing.\n",
    "\n",
    "To test your implementation, you can re-do the evaluation from above:"
   ]
  },
  {
   "cell_type": "code",
   "execution_count": null,
   "metadata": {
    "collapsed": false
   },
   "outputs": [],
   "source": [
    "classifier1 = MyNaiveBayesClassifier.train(training_data)\n",
    "print(accuracy(classifier1, test_data))"
   ]
  },
  {
   "cell_type": "markdown",
   "metadata": {},
   "source": [
    "<div class=\"panel panel-primary\">\n",
    "<div class=\"panel-heading\">Problem 2</div>\n",
    "<div class=\"panel-body\">\n",
    "Implement the two methods in `MyNaiveBayesClassifier`. Test your implementation by evaluating on the test data. Your results should be very similar to the ones that you got when you evaluated your accuracy function in Problem&nbsp;1.\n",
    "</div>\n",
    "</div>"
   ]
  },
  {
   "cell_type": "markdown",
   "metadata": {},
   "source": [
    "## Averaged perceptron classifier"
   ]
  },
  {
   "cell_type": "markdown",
   "metadata": {},
   "source": [
    "Here is the code skeleton for the averaged perceptron classifier:"
   ]
  },
  {
   "cell_type": "code",
   "execution_count": null,
   "metadata": {
    "collapsed": true
   },
   "outputs": [],
   "source": [
    "class MyPerceptronClassifier(Classifier):\n",
    "\n",
    "    def predict(self, x):\n",
    "        # TODO: Replace the following line with your own code to solve Problem 3\n",
    "        return None\n",
    "\n",
    "    @classmethod\n",
    "    def train(cls, data, n_epochs=1):\n",
    "        # TODO: Replace the following line with your own code to solve Problem 3\n",
    "        return cls()"
   ]
  },
  {
   "cell_type": "markdown",
   "metadata": {},
   "source": [
    "In this skeleton, the method `predict()` should implement the perceptron classification rule. The method `train()` should return a new classifier that has been trained on the specified training data using averaged perceptron training for the specified number of epochs.\n",
    "\n",
    "To test your implementation, as before you can train a classifier on the training data and evaluate it on the test data:"
   ]
  },
  {
   "cell_type": "code",
   "execution_count": null,
   "metadata": {
    "collapsed": false
   },
   "outputs": [],
   "source": [
    "classifier2 = MyPerceptronClassifier.train(training_data)\n",
    "print(accuracy(classifier2, test_data))"
   ]
  },
  {
   "cell_type": "markdown",
   "metadata": {},
   "source": [
    "<div class=\"panel panel-primary\">\n",
    "<div class=\"panel-heading\">Problem 3</div>\n",
    "<div class=\"panel-body\">\n",
    "Implement the two methods in `MyPerceptronClassifier`. Test your implementation by evaluating on the test data. You should get results in the 70&ndash;80% range. What happens if you repeat the experiment but do not do averaging? What happens when you train the classifier for two epochs? Enter your results into the table below.\n",
    "</div>\n",
    "</div>"
   ]
  },
  {
   "cell_type": "markdown",
   "metadata": {},
   "source": [
    "<table>\n",
    "<tr><td></td><td>averaging</td><td>no averaging</td></tr>\n",
    "<tr><td>1 epoch</td><td>to fill</td><td>to fill</td></tr>\n",
    "<tr><td>2 epochs</td><td>to fill</td><td>to fill</td></tr>\n",
    "</table>"
   ]
  },
  {
   "cell_type": "markdown",
   "metadata": {},
   "source": [
    "## Switching to binary features"
   ]
  },
  {
   "cell_type": "markdown",
   "metadata": {},
   "source": [
    "In the lab so far, a document is represented as a list of the words that occur in it. For sentiment classification, several authors have suggested that a *binary* document representation, where each word is represented only once, can produce better results. In the last problem you will try to confirm this finding.\n",
    "\n",
    "Your task is to implement a function `binarize()` that converts data into the binary representation:"
   ]
  },
  {
   "cell_type": "code",
   "execution_count": null,
   "metadata": {
    "collapsed": true
   },
   "outputs": [],
   "source": [
    "def binarize(data):\n",
    "    # TODO: Replace the following line to solve Problem 4\n",
    "    return data"
   ]
  },
  {
   "cell_type": "markdown",
   "metadata": {},
   "source": [
    "The function is to be used in the following context:"
   ]
  },
  {
   "cell_type": "code",
   "execution_count": null,
   "metadata": {
    "collapsed": false
   },
   "outputs": [],
   "source": [
    "binarized_training_data = binarize(training_data)\n",
    "binarized_test_data = binarize(test_data)\n",
    "\n",
    "classifier3 = MyNaiveBayesClassifier.train(binarized_training_data)\n",
    "print(accuracy(classifier3, binarized_test_data))\n",
    "\n",
    "classifier4 = MyPerceptronClassifier.train(binarized_training_data)\n",
    "print(accuracy(classifier4, binarized_test_data))"
   ]
  },
  {
   "cell_type": "markdown",
   "metadata": {},
   "source": [
    "<div class=\"panel panel-primary\">\n",
    "<div class=\"panel-heading\">Problem 4</div>\n",
    "<div class=\"panel-body\">\n",
    "Implement the `binarize()` function and run the evaluation. What do you observe? Summarise your results in one or two sentences.\n",
    "</div>\n",
    "</div>"
   ]
  },
  {
   "cell_type": "markdown",
   "metadata": {},
   "source": [
    "*TODO: Insert the summary of your evaluation here*"
   ]
  }
 ],
 "metadata": {
  "kernelspec": {
   "display_name": "Python 3",
   "language": "python",
   "name": "python3"
  },
  "language_info": {
   "codemirror_mode": {
    "name": "ipython",
    "version": 3
   },
   "file_extension": ".py",
   "mimetype": "text/x-python",
   "name": "python",
   "nbconvert_exporter": "python",
   "pygments_lexer": "ipython3",
   "version": "3.4.3"
  }
 },
 "nbformat": 4,
 "nbformat_minor": 1
}
